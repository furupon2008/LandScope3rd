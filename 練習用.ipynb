{
  "nbformat": 4,
  "nbformat_minor": 0,
  "metadata": {
    "colab": {
      "name": "練習用",
      "provenance": [],
      "mount_file_id": "11ex3uKm7h02fDlyJLjJXPSzfHEYv2lpV",
      "authorship_tag": "ABX9TyNGwVzjXqo1wHbKi1GJn1ee",
      "include_colab_link": true
    },
    "kernelspec": {
      "name": "python3",
      "display_name": "Python 3"
    }
  },
  "cells": [
    {
      "cell_type": "markdown",
      "metadata": {
        "id": "view-in-github",
        "colab_type": "text"
      },
      "source": [
        "<a href=\"https://colab.research.google.com/github/furupon2008/LandScope3rd/blob/master/%E7%B7%B4%E7%BF%92%E7%94%A8.ipynb\" target=\"_parent\"><img src=\"https://colab.research.google.com/assets/colab-badge.svg\" alt=\"Open In Colab\"/></a>"
      ]
    },
    {
      "cell_type": "markdown",
      "metadata": {
        "id": "hMj2q6o13Mz9"
      },
      "source": [
        "長谷川先生のpythonへ\n"
      ]
    },
    {
      "cell_type": "code",
      "metadata": {
        "id": "9rS-7xlvo0W8"
      },
      "source": [
        "list = [[0 for j in range(9)] for i in range(9)]\n",
        "list[0][1]=9\n",
        "list"
      ],
      "execution_count": null,
      "outputs": []
    },
    {
      "cell_type": "markdown",
      "metadata": {
        "id": "qE9tmlyTgPaI"
      },
      "source": [
        "最大公約数"
      ]
    },
    {
      "cell_type": "code",
      "metadata": {
        "id": "J3a2VEaFgSXP"
      },
      "source": [
        "def gcd(x, y):\n",
        "    while(y!=0):\n",
        "        t=x % y\n",
        "        x = y\n",
        "        y = t\n",
        "    return x\n",
        "\n",
        "\n",
        "def ngcd(n,a):\n",
        "    d=a[0]\n",
        "    for i in range(n):\n",
        "        print(i,a[i],d)\n",
        "        d=gcd(a[i],d)\n",
        "    return d\n",
        "\n",
        "\n",
        "a=[66,30,33]\n",
        "print(ngcd(3,a))\n",
        "\n",
        "\n"
      ],
      "execution_count": null,
      "outputs": []
    },
    {
      "cell_type": "markdown",
      "metadata": {
        "id": "t7GlzJIng0pd"
      },
      "source": [
        "練習問題"
      ]
    },
    {
      "cell_type": "code",
      "metadata": {
        "id": "TkKCleFMcQSY"
      },
      "source": [
        "import os\n",
        "os.listdir()"
      ],
      "execution_count": null,
      "outputs": []
    },
    {
      "cell_type": "code",
      "metadata": {
        "id": "StpdS-133Ufe"
      },
      "source": [
        "s = input()\n",
        "print([s,s,s])\n"
      ],
      "execution_count": null,
      "outputs": []
    }
  ]
}