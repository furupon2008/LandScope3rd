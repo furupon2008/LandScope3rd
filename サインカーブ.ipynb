{
  "nbformat": 4,
  "nbformat_minor": 0,
  "metadata": {
    "colab": {
      "name": "サインカーブ",
      "provenance": [],
      "mount_file_id": "1s2VxEE-W4Au-7xMo_dFzhfZhD3V2D6xP",
      "authorship_tag": "ABX9TyNQ5gQD8FMp7m6GWiMZXgfL",
      "include_colab_link": true
    },
    "kernelspec": {
      "name": "python3",
      "display_name": "Python 3"
    }
  },
  "cells": [
    {
      "cell_type": "markdown",
      "metadata": {
        "id": "view-in-github",
        "colab_type": "text"
      },
      "source": [
        "<a href=\"https://colab.research.google.com/github/furupon2008/LandScope3rd/blob/master/%E3%82%B5%E3%82%A4%E3%83%B3%E3%82%AB%E3%83%BC%E3%83%96.ipynb\" target=\"_parent\"><img src=\"https://colab.research.google.com/assets/colab-badge.svg\" alt=\"Open In Colab\"/></a>"
      ]
    },
    {
      "cell_type": "markdown",
      "metadata": {
        "id": "Mptd2LR_1bPN",
        "colab_type": "text"
      },
      "source": [
        "サインカーブを描いてみる"
      ]
    },
    {
      "cell_type": "code",
      "metadata": {
        "id": "_Jklw14N0vaa",
        "colab_type": "code",
        "colab": {
          "base_uri": "https://localhost:8080/",
          "height": 265
        },
        "outputId": "ae16523e-5dca-4d26-f5b9-79ce23b28684"
      },
      "source": [
        "import numpy\n",
        "from matplotlib import pyplot\n",
        "x = numpy.linspace(0, 8 * numpy.pi, 100)\n",
        "y=0\n",
        "for i in range(1,100):\n",
        "    y +=numpy.sin(i*x)/i\n",
        "pyplot.plot(x, y)\n",
        "pyplot.show()\n"
      ],
      "execution_count": null,
      "outputs": [
        {
          "output_type": "display_data",
          "data": {
            "image/png": "[encoded data removed]",
            "text/plain": [
              "<Figure size 432x288 with 1 Axes>"
            ]
          },
          "metadata": {
            "tags": [],
            "needs_background": "light"
          }
        }
      ]
    },
    {
      "cell_type": "markdown",
      "metadata": {
        "id": "6ap6GTyt-4lu",
        "colab_type": "text"
      },
      "source": [
        "数の合計"
      ]
    },
    {
      "cell_type": "code",
      "metadata": {
        "id": "eovqGlS--dti",
        "colab_type": "code",
        "colab": {
          "base_uri": "https://localhost:8080/",
          "height": 102
        },
        "outputId": "b3ccd822-e18e-44d9-ec6f-e2dfe376f368"
      },
      "source": [
        "k=0\n",
        "for i in range(0,10,2):\n",
        "  k+=i\n",
        "  print(k)\n"
      ],
      "execution_count": null,
      "outputs": [
        {
          "output_type": "stream",
          "text": [
            "0\n",
            "2\n",
            "6\n",
            "12\n",
            "20\n"
          ],
          "name": "stdout"
        }
      ]
    },
    {
      "cell_type": "markdown",
      "metadata": {
        "id": "LisN9cg1bm4H",
        "colab_type": "text"
      },
      "source": [
        "簡易カードゲーム\n"
      ]
    },
    {
      "cell_type": "code",
      "metadata": {
        "id": "0tt3G984csFk",
        "colab_type": "code",
        "colab": {
          "base_uri": "https://localhost:8080/",
          "height": 122
        },
        "outputId": "8676a6ee-7e8e-4912-b102-a5cf63ba28cd"
      },
      "source": [
        "from google.colab import drive\n",
        "drive.mount('/content/drive')"
      ],
      "execution_count": null,
      "outputs": [
        {
          "output_type": "stream",
          "text": [
            "Go to this URL in a browser: https://accounts.google.com/o/oauth2/auth?client_id=947318989803-6bn6qk8qdgf4n4g3pfee6491hc0brc4i.apps.googleusercontent.com&redirect_uri=urn%3aietf%3awg%3aoauth%3a2.0%3aoob&response_type=code&scope=email%20https%3a%2f%2fwww.googleapis.com%2fauth%2fdocs.test%20https%3a%2f%2fwww.googleapis.com%2fauth%2fdrive%20https%3a%2f%2fwww.googleapis.com%2fauth%2fdrive.photos.readonly%20https%3a%2f%2fwww.googleapis.com%2fauth%2fpeopleapi.readonly\n",
            "\n",
            "Enter your authorization code:\n",
            "··········\n",
            "Mounted at /content/drive\n"
          ],
          "name": "stdout"
        }
      ]
    },
    {
      "cell_type": "code",
      "metadata": {
        "id": "KBjzzzc6nDqC",
        "colab_type": "code",
        "colab": {
          "base_uri": "https://localhost:8080/",
          "height": 187
        },
        "outputId": "5b0b684e-f846-4993-aef1-4ce29d8a7245"
      },
      "source": [
        "import csv\n",
        "#/content/train2.csv\n",
        "csvfile = open('/content/drive/My Drive/Colab Notebooks/train.csv のコピー')\n",
        "#csvfile = open('')\n",
        "#/content/sample_data/train3.csv\n",
        "reader = csv.reader(csvfile)\n",
        "print(reader)\n",
        "#print(len(reader))\n",
        "a=[]\n",
        "#print(reader(0))\n",
        "for i in reader:\n",
        "    #a.append(row[0])\n",
        "    print(i[0])\n",
        "    #print(row[0])\n",
        "    #print(a)\n"
      ],
      "execution_count": null,
      "outputs": [
        {
          "output_type": "stream",
          "text": [
            "<_csv.reader object at 0x7f8a702e8ba8>\n",
            "8\n",
            "7777\n",
            "2229\n",
            "5566\n",
            "2669\n",
            "1689\n",
            "1333\n",
            "1189\n",
            "3588\n"
          ],
          "name": "stdout"
        }
      ]
    },
    {
      "cell_type": "markdown",
      "metadata": {
        "id": "5LLTvvWvSG18",
        "colab_type": "text"
      },
      "source": [
        ""
      ]
    },
    {
      "cell_type": "code",
      "metadata": {
        "id": "gmxHNuVxelm4",
        "colab_type": "code",
        "colab": {
          "base_uri": "https://localhost:8080/",
          "height": 306
        },
        "outputId": "675259de-b23d-4d57-ce82-cc08c3bfe1ac"
      },
      "source": [
        "import csv\n",
        "\n",
        "csvfile = open('/content/drive/My Drive/Colab Notebooks/card.csv')\n",
        "reader = csv.reader(csvfile)\n",
        "#print(reader)\n",
        "a=[]\n",
        "for row in reader:\n",
        "    a.append(row[0])\n",
        "    print(a)\n",
        "n=int(a[0])\n",
        "for i in range(n):\n",
        "    print(a[i+1],\" \",end=\"\")\n",
        "    s=a[i+1]\n",
        "    #print(s)\n",
        "    d={}\n",
        "    for j in range(4):\n",
        "        if not(s[j] in d):\n",
        "            d[s[j]]=1\n",
        "        else:\n",
        "            d[s[j]]+=1\n",
        "        #print(d)\n",
        "    if max(d.values())==4:\n",
        "        print(\"Four Card\")\n",
        "    elif max(d.values())==3:\n",
        "        print(\"Three Card\")\n",
        "    elif max(d.values())==2 and len(d)==2:\n",
        "        print(\"Two Pair\")\n",
        "    elif max(d.values())==2:\n",
        "        print(\"One Pair\")\n",
        "    else:\n",
        "        print(\"No Pair\")\n"
      ],
      "execution_count": null,
      "outputs": [
        {
          "output_type": "stream",
          "text": [
            "['8']\n",
            "['8', '7777']\n",
            "['8', '7777', '2229']\n",
            "['8', '7777', '2229', '5566']\n",
            "['8', '7777', '2229', '5566', '2669']\n",
            "['8', '7777', '2229', '5566', '2669', '1689']\n",
            "['8', '7777', '2229', '5566', '2669', '1689', '1333']\n",
            "['8', '7777', '2229', '5566', '2669', '1689', '1333', '1189']\n",
            "['8', '7777', '2229', '5566', '2669', '1689', '1333', '1189', '3588']\n",
            "7777  Four Card\n",
            "2229  Three Card\n",
            "5566  Two Pair\n",
            "2669  One Pair\n",
            "1689  No Pair\n",
            "1333  Three Card\n",
            "1189  One Pair\n",
            "3588  One Pair\n"
          ],
          "name": "stdout"
        }
      ]
    },
    {
      "cell_type": "markdown",
      "metadata": {
        "id": "qZHTit71SNTR",
        "colab_type": "text"
      },
      "source": [
        "csvファイルの読み込み\n"
      ]
    },
    {
      "cell_type": "code",
      "metadata": {
        "id": "eb9RAGxrGfK-",
        "colab_type": "code",
        "colab": {
          "base_uri": "https://localhost:8080/",
          "height": 153
        },
        "outputId": "8e638f24-598f-4c61-950a-146770090dea"
      },
      "source": [
        "import csv\n",
        "csvfile = open('/content/array.csv')\n",
        "reader = csv.reader(csvfile)\n",
        "a=[]\n",
        "#print(reader(0))\n",
        "for i in reader:\n",
        "    a.append(i)\n",
        "    print(i)\n"
      ],
      "execution_count": null,
      "outputs": [
        {
          "output_type": "stream",
          "text": [
            "['7', '1', '2', '3', '4', '5']\n",
            "['9', '2', '3', '4', '5', '1']\n",
            "['11', '3', '4', '5', '6', '-3']\n",
            "['13', '4', '5', '6', '7', '-7']\n",
            "['15', '5', '6', '7', '8', '-11']\n",
            "['17', '6', '7', '8', '9', '-15']\n",
            "['19', '7', '8', '9', '10', '-19']\n",
            "['21', '8', '9', '10', '11', '-23']\n"
          ],
          "name": "stdout"
        }
      ]
    },
    {
      "cell_type": "markdown",
      "metadata": {
        "id": "KYWlZcoeLqYL",
        "colab_type": "text"
      },
      "source": [
        "靴下の整理"
      ]
    },
    {
      "cell_type": "code",
      "metadata": {
        "id": "wiXgTSc5ONTu",
        "colab_type": "code",
        "colab": {
          "base_uri": "https://localhost:8080/",
          "height": 170
        },
        "outputId": "6fcb2bf9-8619-4386-d8c8-85228424cb63"
      },
      "source": [
        "import csv\n",
        "csvfile = open('/content/drive/My Drive/Colab Notebooks/socks.csv')\n",
        "reader = csv.reader(csvfile)\n",
        "b=[]\n",
        "#print(reader(0))\n",
        "for i in reader:\n",
        "    b.append(i)\n",
        "    #print(i)\n",
        "n=int(b[0][0])\n",
        "#print(n)\n",
        "d={}\n",
        "for i in range(n):\n",
        "    #print(b[i+1][0])\n",
        "    s=b[i+1][0].split()\n",
        "    #print(s)\n",
        "    if not(s[0] in d):\n",
        "        d[s[0]]=[0,0]\n",
        "    if s[1]==\"L\":\n",
        "        d[s[0]][0]+=1\n",
        "    else:\n",
        "        d[s[0]][1]+=1\n",
        "    print(d)\n",
        "kutusita=0\n",
        "for i in list(d):\n",
        "    #print(min(d[i]))\n",
        "    kutusita=kutusita+min(d[i])\n",
        "print(kutusita)\n",
        "\n"
      ],
      "execution_count": 21,
      "outputs": [
        {
          "output_type": "stream",
          "text": [
            "{'A': [0, 1]}\n",
            "{'A': [1, 1]}\n",
            "{'A': [1, 1], 'B': [0, 1]}\n",
            "{'A': [2, 1], 'B': [0, 1]}\n",
            "{'A': [2, 2], 'B': [0, 1]}\n",
            "{'A': [2, 2], 'B': [1, 1]}\n",
            "{'A': [3, 2], 'B': [1, 1]}\n",
            "{'A': [3, 2], 'B': [1, 1], 'C': [1, 0]}\n",
            "3\n"
          ],
          "name": "stdout"
        }
      ]
    }
  ]
}